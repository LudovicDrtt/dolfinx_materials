{
 "cells": [
  {
   "cell_type": "markdown",
   "metadata": {},
   "source": [
    "# Stationary nonlinear heat transfer\n",
    "\n",
    "This demo shows how to use a simple `MFront` behaviour to solve a non-linear sationary heat transfer equation with `dolfinx_materials`.\n",
    "\n",
    "## Description of the non-linear constitutive heat transfer law\n",
    "\n",
    "The thermal material is described by the following non linear Fourier\n",
    "Law:\n",
    "\n",
    "$$\n",
    "\\mathbf{j}=-k\\left(T\\right)\\,\\mathbf{\\nabla} T\n",
    "$$\n",
    "\n",
    "where $\\mathbf{j}$ is the heat flux and $\\mathbf{\\nabla} T$ is the\n",
    "temperature gradient.\n",
    "\n",
    "### Expression of the thermal conductivity\n",
    "\n",
    "The thermal conductivity is assumed to be given by:\n",
    "\n",
    "$$\n",
    "k\\left(T\\right)={\\displaystyle \\frac{\\displaystyle 1}{\\displaystyle A+B\\,T}}\n",
    "$$\n",
    "\n",
    "This expression accounts for the phononic contribution to the thermal\n",
    "conductivity.\n",
    "\n",
    "### Derivatives\n",
    "\n",
    "As discussed below, the consistent linearisation of the heat transfer\n",
    "equilibrium requires to compute:\n",
    "\n",
    "-   the derivative\n",
    "    ${\\displaystyle \\frac{\\displaystyle \\partial \\mathbf{j}}{\\displaystyle \\partial \\mathbf{\\nabla} T}}$\n",
    "    of the heat flux with respect to the temperature gradient.\n",
    "    ${\\displaystyle \\frac{\\displaystyle \\partial \\mathbf{j}}{\\displaystyle \\partial \\mathbf{\\nabla} T}}$\n",
    "    is given by: $$\n",
    "      {\\displaystyle \\frac{\\displaystyle \\partial \\mathbf{j}}{\\displaystyle \\partial \\mathbf{\\nabla} T}}=-k\\left(T\\right)\\,\\matrix{I}\n",
    "    $$\n",
    "-   the derivative\n",
    "    ${\\displaystyle \\frac{\\displaystyle \\partial \\mathbf{j}}{\\displaystyle \\partial T}}$\n",
    "    of the heat flux with respect to the temperature.\n",
    "    ${\\displaystyle \\frac{\\displaystyle \\partial \\mathbf{j}}{\\displaystyle \\partial T}}$\n",
    "    is given by: $$\n",
    "      {\\displaystyle \\frac{\\displaystyle \\partial \\mathbf{j}}{\\displaystyle \\partial T}}=-{\\displaystyle \\frac{\\displaystyle \\partial k\\left(T\\right)}{\\displaystyle \\partial T}}\\,\\mathbf{\\nabla} T=B\\,k^{2}\\,\\mathbf{\\nabla} T\n",
    "    $$\n",
    "\n",
    "## `MFront`’ implementation\n",
    "\n",
    "### Choice of the the domain specific language\n",
    "\n",
    "Every `MFront` file is handled by a domain specific language (DSL), which\n",
    "aims at providing the most suitable abstraction for a particular choice\n",
    "of behaviour and integration algorithm. See `mfront mfront --list-dsl`\n",
    "for a list of the available DSLs.\n",
    "\n",
    "The name of DSL’s handling generic behaviours ends with\n",
    "`GenericBehaviour`. The first part of a DSL’s name is related to the\n",
    "integration algorithm used.\n",
    "\n",
    "In the case of this non linear transfer behaviour, the heat flux is\n",
    "explicitly computed from the temperature and the temperature gradient.\n",
    "The `DefaultGenericBehaviour` is the most suitable choice:\n",
    "\n",
    "``` cpp\n",
    "@DSL DefaultGenericBehaviour;\n",
    "```\n",
    "\n",
    "### Some metadata\n",
    "\n",
    "The following lines define the name of the behaviour, the name of the\n",
    "author and the date of its writing:\n",
    "\n",
    "``` cpp\n",
    "@Behaviour StationaryHeatTransfer;\n",
    "@Author Thomas Helfer;\n",
    "@Date 15/02/2019;\n",
    "```\n",
    "\n",
    "### Gradients and fluxes\n",
    "\n",
    "Generic behaviours relate pairs of gradients and fluxes. Gradients and\n",
    "fluxes are declared independently but the first declared gradient is\n",
    "assumed to be conjugated with the first declared fluxes and so on…\n",
    "\n",
    "The temperature gradient is declared as follows (note that Unicode characters are supported):\n",
    "\n",
    "``` cpp\n",
    "@Gradient TemperatureGradient ∇T;\n",
    "∇T.setGlossaryName(\"TemperatureGradient\");\n",
    "```\n",
    "\n",
    "Note that we associated to `∇T` the glossary name `TemperatureGradient`.\n",
    "This is helpful for the calling code.\n",
    "\n",
    "After this declaration, the following variables will be defined:\n",
    "\n",
    "-   The temperature gradient `∇T` at the beginning of the time step.\n",
    "-   The increment of the temperature gradient `Δ∇T` over the time step.\n",
    "\n",
    "The heat flux is then declared as follows:\n",
    "\n",
    "``` cpp\n",
    "@Flux HeatFlux j;\n",
    "j.setGlossaryName(\"HeatFlux\");\n",
    "```\n",
    "\n",
    "In the following code blocks, `j` will be the heat flux at the end of\n",
    "the time step.\n",
    "\n",
    "### Tangent operator blocks\n",
    "\n",
    "By default, the derivatives of the gradients with respect to the fluxes\n",
    "are declared. Thus the variable `∂j∕∂Δ∇T` is automatically declared.\n",
    "\n",
    "However, as discussed in the next section, the consistent linearisation\n",
    "of the thermal equilibrium requires to return the derivate of the heat\n",
    "flux with respect to the increment of the temperature (or equivalently\n",
    "with respect to the temperature at the end of the time step).\n",
    "\n",
    "``` cpp\n",
    "@AdditionalTangentOperatorBlock ∂j∕∂ΔT;\n",
    "```\n",
    "\n",
    "### Parameters\n",
    "\n",
    "The `A` and `B` coefficients that appears in the definition of the\n",
    "thermal conductivity are declared as parameters:\n",
    "\n",
    "``` cpp\n",
    "@Parameter real A = 0.0375;\n",
    "@Parameter real B = 2.165e-4;\n",
    "```\n",
    "\n",
    "Parameters are stored globally and can be modified from the calling\n",
    "solver or from `python` in the case of the coupling with `FEniCS`\n",
    "discussed below.\n",
    "\n",
    "### Local variable\n",
    "\n",
    "A local variable is accessible in each code blocks.\n",
    "\n",
    "Here, we declare the thermal conductivity `k` as a local variable in\n",
    "order to be able to compute its value during the behaviour integration\n",
    "and to reuse this value when computing the tangent operator.\n",
    "\n",
    "``` cpp\n",
    "@LocalVariable thermalconductivity k;\n",
    "```\n",
    "\n",
    "### Integration of the behaviour\n",
    "\n",
    "The behaviour integration is straightforward: one starts to compute the\n",
    "temperature at the end of the time step, then we compute the thermal\n",
    "conductivity (at the end of the time step) and the heat flux using the\n",
    "temperature gradient (at the end of the time step).\n",
    "\n",
    "``` cpp\n",
    "@Integrator{\n",
    "  // temperature at the end of the time step\n",
    "  const auto T_ = T + ΔT;\n",
    "  // thermal conductivity\n",
    "  k = 1 / (A + B ⋅ T_);\n",
    "  // heat flux\n",
    "  j = -k ⋅ (∇T + Δ∇T);\n",
    "} // end of @Integrator\n",
    "```\n",
    "\n",
    "### Tangent operator\n",
    "\n",
    "The computation of the tangent operator blocks is equally simple:\n",
    "\n",
    "``` cpp\n",
    "@TangentOperator {\n",
    "  ∂j∕∂Δ∇T = -k ⋅ tmatrix<N, N, real>::Id();\n",
    "  ∂j∕∂ΔT  =  B ⋅ k ⋅ k ⋅ (∇T + Δ∇T);\n",
    "} // end of @TangentOperator \n",
    "```\n",
    "## `FEniCSx` implementation\n",
    "\n",
    "We consider a rectanglar domain with imposed temperatures `Tl` (resp. `Tr`) on the left (resp. right) boundaries. We want to solve for the temperature field `T` inside the domain using a $P^1$-interpolation. We initialize the temperature at value `Tl` throughout the domain."
   ]
  },
  {
   "cell_type": "code",
   "execution_count": null,
   "metadata": {},
   "outputs": [],
   "source": [
    "import numpy as np\n",
    "import matplotlib.pyplot as plt\n",
    "import ufl\n",
    "from mpi4py import MPI\n",
    "from dolfinx import fem, mesh\n",
    "from dolfinx.cpp.nls.petsc import NewtonSolver\n",
    "from dolfinx_materials.quadrature_map import QuadratureMap\n",
    "from dolfinx_materials.solvers import NonlinearMaterialProblem\n",
    "from dolfinx_materials.material.mfront import MFrontMaterial\n",
    "import os\n",
    "\n",
    "\n",
    "current_path = os.getcwd()\n",
    "\n",
    "length = 30e-3\n",
    "width = 5.4e-3\n",
    "domain = mesh.create_rectangle(MPI.COMM_WORLD, [(0.0, 0.0), (length, width)], [100, 10])\n",
    "\n",
    "V = fem.FunctionSpace(domain, (\"CG\", 1))\n",
    "T = fem.Function(V, name=\"Temperature\")\n",
    "\n",
    "\n",
    "def left(x):\n",
    "    return np.isclose(x[0], 0)\n",
    "\n",
    "\n",
    "def right(x):\n",
    "    return np.isclose(x[0], length)\n",
    "\n",
    "\n",
    "Tl = 300.0\n",
    "Tr = 800.0\n",
    "T.vector.set(Tl)\n",
    "\n",
    "left_dofs = fem.locate_dofs_geometrical(V, left)\n",
    "right_dofs = fem.locate_dofs_geometrical(V, right)\n",
    "\n",
    "bcs = [fem.dirichletbc(Tl, left_dofs, V), fem.dirichletbc(Tr, right_dofs, V)]"
   ]
  },
  {
   "cell_type": "markdown",
   "metadata": {},
   "source": [
    "### Loading the material behaviour\n",
    "\n",
    "We use the `MFrontMaterial` class for describing the material behaviour. The first argument corresponds to the path where material librairies have been compiled, the second correspond to the name of the behaviour (declared with `@Behaviour`). Finally, the modelling hypothesis is specified (default behaviour is `\"3d\"`)."
   ]
  },
  {
   "cell_type": "code",
   "execution_count": 2,
   "metadata": {},
   "outputs": [],
   "source": [
    "material = MFrontMaterial(\n",
    "    os.path.join(current_path, \"src/libBehaviour.so\"),\n",
    "    \"StationaryHeatTransfer\",\n",
    "    hypothesis=\"plane_strain\",\n",
    ")"
   ]
  },
  {
   "cell_type": "markdown",
   "metadata": {},
   "source": [
    "The `MFront` behaviour declares the field `\"TemperatureGradient\"` as a Gradient variable, with its associated Flux called `\"HeatFlux\"`. We can check that the `material` object retrieves `MFront`'s gradient and flux names, as well as the different tangent operator blocks which have been defined, namely `dj_ddgT` and `dj_ddT` in the present case:\n"
   ]
  },
  {
   "cell_type": "code",
   "execution_count": 3,
   "metadata": {},
   "outputs": [
    {
     "name": "stdout",
     "output_type": "stream",
     "text": [
      "{'TemperatureGradient': 2}\n",
      "{'HeatFlux': 2}\n",
      "['dHeatFlux_dTemperatureGradient', 'dHeatFlux_dTemperature']\n"
     ]
    }
   ],
   "source": [
    "print(material.gradients)\n",
    "print(material.fluxes)\n",
    "\n",
    "print([\"d{}_d{}\".format(*t) for t in material.tangent_blocks])"
   ]
  },
  {
   "cell_type": "markdown",
   "metadata": {},
   "source": [
    "### Non-linear problem definition\n",
    "\n",
    "We now define the non-linear residual form that we want to solve. After defining test and trial functions, we instantiate the `QuadratureMap` object which will handle the *black-box* constitutive equation based on the `material` object. We must provide the requested quadrature degree which will control the number of quadrature points used in each cell to compute the non-linear constitutive law. Here, we specify a quadrature of degree 2 (i.e. 3 Gauss points for a triangular element). "
   ]
  },
  {
   "cell_type": "code",
   "execution_count": 4,
   "metadata": {},
   "outputs": [],
   "source": [
    "T_ = ufl.TestFunction(V)\n",
    "dT = ufl.TrialFunction(V)\n",
    "\n",
    "deg_quad = 2\n",
    "qmap = QuadratureMap(domain, deg_quad, material)"
   ]
  },
  {
   "cell_type": "markdown",
   "metadata": {},
   "source": [
    "#### Variable registration\n",
    "\n",
    "The `MFront` behaviour implicitly declares the temperature as an external state variable called `\"Temperature\"`. We must therefore associate this external state variable to a known mechanical field. This can be achieved explicitly using the `register_external_state_variable` method. \n",
    "\n",
    "For problems in which the temperature only acts as a parameter (no jacobian blocks with respect to the temperature), the temperature can be automatically registered as a constant value ($293.15 \\text{ K}$ by default) or to any other (`dolfin.Constant`, `float` or `dolfin.Function`) value using the `register_external_state_variable` method.\n",
    "\n",
    "Finally, we need to associate to `MFront` gradient object the corresponding UFL expression as a function of the unknown field `T`. To do so, we use the `register_gradient` method linking `MFront` `\"TemperatureGradient\"` object to the UFL expression `grad(T)`."
   ]
  },
  {
   "cell_type": "code",
   "execution_count": 5,
   "metadata": {},
   "outputs": [],
   "source": [
    "qmap.register_external_state_variable(\"Temperature\", T)\n",
    "qmap.register_gradient(\"TemperatureGradient\", ufl.grad(T))"
   ]
  },
  {
   "cell_type": "markdown",
   "metadata": {},
   "source": [
    "#### Nonlinear variational formulation\n",
    "\n",
    "We are now in position of defining the nonlinear variational formulation corresponding to the stationary nonlinear heat transfer. Without any external loading, the nonlinear residual reads as:\n",
    "\\begin{equation}\n",
    "F(\\widehat{T}) = \\int_\\Omega \\mathbf{j}\\cdot \\nabla \\widehat{T} \\text{dx} = 0 \\quad \\forall \\widehat{T}\n",
    "\\end{equation}\n",
    "where the heat flux $\\mathbf{j}$ is provided by the `QuadratureMap` as a flux. The latter is a `dolfinx` function defined on `Quadrature` function space (no interpolation is possible). Note that the integration measure must match the chosen quadrature scheme and quadrature degree. It is provided here as `qmap.dx`.\n",
    "\n",
    "The `qmap.derivative` function works similarly to the standard `ufl.derivative` function except that it will also differentiate the heat flux. From the two tangent operator blocks `dj_ddgT` and `dj_ddT`, it will automatically be deduced that the heat flux $\\mathbf{j}$ is a function of both the temperature gradient $\\mathbf{g}=\\nabla T$ and the temperature itself i.e. $\\mathbf{j}=\\mathbf{j}(\\mathbf{g}, T)$. Hence, the computed Jacobian form will be:\n",
    "\n",
    "\\begin{equation}\n",
    "J(\\widehat{T},T^*) = \\int_{\\Omega} \\nabla \\widehat{T}\\cdot\\left(\\dfrac{\\partial \\mathbf{j}}{\\partial \\mathbf{g}}\\cdot \\nabla T^*+\\dfrac{\\partial \\mathbf{j}}{\\partial T}\\cdot T^*\\right) \\text{dx}\n",
    "\\end{equation}\n",
    "\n",
    "The resulting nonlinear problem is managed by the `NonlinearMaterialProblem` class. It is solved using a Newton non-linear solver. The `solve` method returns the converged status and the number of Newton iterations."
   ]
  },
  {
   "cell_type": "code",
   "execution_count": 6,
   "metadata": {},
   "outputs": [
    {
     "name": "stdout",
     "output_type": "stream",
     "text": [
      "Solution reached in 4 iterations.\n"
     ]
    }
   ],
   "source": [
    "j = qmap.fluxes[\"HeatFlux\"]\n",
    "\n",
    "F = ufl.dot(j, ufl.grad(T_)) * qmap.dx\n",
    "Jac = qmap.derivative(F, T, dT)\n",
    "\n",
    "problem = NonlinearMaterialProblem(qmap, F, Jac, T, bcs)\n",
    "\n",
    "newton = NewtonSolver(MPI.COMM_WORLD)\n",
    "\n",
    "converged, it = problem.solve(newton)\n",
    "\n",
    "# Problem is weakly nonlinear, it should converge in a few iterations\n",
    "assert converged and it < 10"
   ]
  },
  {
   "cell_type": "markdown",
   "metadata": {},
   "source": [
    "We finally check that the thermal conductivity coefficient $k$, computed from the ratio between the horizontal heat flux and temperature gradient matches the temperature-dependent expressions implemented in the `MFront` behaviour.\n"
   ]
  },
  {
   "cell_type": "code",
   "execution_count": 7,
   "metadata": {},
   "outputs": [
    {
     "data": {
      "image/png": "[encoded data removed]",
      "text/plain": [
       "<Figure size 640x480 with 1 Axes>"
      ]
     },
     "metadata": {},
     "output_type": "display_data"
    }
   ],
   "source": [
    "j_vals = j.vector.array\n",
    "g_vals = qmap.gradients[\"TemperatureGradient\"].function.vector.array\n",
    "k_gauss = -j_vals[::2] / g_vals[::2]\n",
    "T_gauss = qmap.external_state_variables[\"Temperature\"].function.vector.array\n",
    "A = material.get_parameter(\"A\")\n",
    "B = material.get_parameter(\"B\")\n",
    "k_ref = 1 / (A + B * T_gauss)\n",
    "plt.plot(T_gauss, k_gauss, \"o\", label=\"FE\")\n",
    "plt.plot(T_gauss, k_ref, \".\", label=\"ref\")\n",
    "plt.xlabel(r\"Temperature $T\\: (K)$\")\n",
    "plt.ylabel(r\"Thermal conductivity $k\\: (W.m^{-1}.K^{-1})$\")\n",
    "plt.legend()\n",
    "plt.show()"
   ]
  }
 ],
 "metadata": {
  "kernelspec": {
   "display_name": "Python 3",
   "language": "python",
   "name": "python3"
  },
  "language_info": {
   "codemirror_mode": {
    "name": "ipython",
    "version": 3
   },
   "file_extension": ".py",
   "mimetype": "text/x-python",
   "name": "python",
   "nbconvert_exporter": "python",
   "pygments_lexer": "ipython3",
   "version": "3.10.12"
  }
 },
 "nbformat": 4,
 "nbformat_minor": 2
}
