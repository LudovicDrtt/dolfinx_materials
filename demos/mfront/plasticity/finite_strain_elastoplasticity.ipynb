{
 "cells": [
  {
   "cell_type": "markdown",
   "metadata": {},
   "source": [
    "# Finite-strain elastoplasticity within the logarithmic strain framework\n",
    "\n",
    "This demo is dedicated to the resolution of a finite-strain elastoplastic problem using the logarithmic strain framework proposed in [@miehe_anisotropic_2002].\n",
    "\n",
    "## Logarithmic strains \n",
    "\n",
    "This framework expresses constitutive relations between the Hencky strain measure $\\boldsymbol{H} = \\dfrac{1}{2}\\log (\\boldsymbol{F}^T\\cdot\\boldsymbol{F})$ and its dual stress measure $\\boldsymbol{T}$. This approach makes it possible to extend classical small strain constitutive relations to a finite-strain setting. In particular, the total (Hencky) strain can be split additively into many contributions (elastic, plastic, thermal, swelling, etc.) e.g. $\\boldsymbol{H}=\\boldsymbol{H}^e+\\boldsymbol{H}^p$. Its trace is also linked with the volume change $J=\\exp(\\operatorname{tr}(\\boldsymbol{H}))$. As a result, the deformation gradient $\\boldsymbol{F}$ is used for expressing the Hencky strain $\\boldsymbol{H}$, a small-strain constitutive law is then written for the $(\\boldsymbol{H},\\boldsymbol{T})$-pair and the dual stress $\\boldsymbol{T}$ is then post-processed to an appropriate stress measure such as the Cauchy stress $\\boldsymbol{\\sigma}$ or Piola-Kirchhoff stresses.\n",
    "\n",
    "## `MFront` implementation\n",
    "\n",
    "The logarithmic strain framework discussed in the previous paragraph consists merely as a pre-processing and a post-processing stages of the behaviour integration. The pre-processing stage compute the logarithmic strain and its increment and the post-processing stage inteprets the stress resulting from the behaviour integration as the dual stress $\\boldsymbol{T}$ and convert it to the Cauchy stress.\n",
    "\n",
    "`MFront` provides the `@StrainMeasure` keyword that allows to specify which strain measure is used by the behaviour. When choosing the `Hencky` strain measure, `MFront` automatically generates those pre- and post-processing stages, allowing the user to focus on the behaviour integration.\n",
    "\n",
    "This leads to the following implementation (see the [small-strain elastoplasticity example](https://thelfer.github.io/mgis/web/mgis_fenics_small_strain_elastoplasticity.html) for details about the various implementations available):\n",
    "\n",
    "```cpp\n",
    "@DSL Implicit;\n",
    "\n",
    "@Behaviour LogarithmicStrainPlasticity;\n",
    "@Author Thomas Helfer/Jérémy Bleyer;\n",
    "@Date 07 / 04 / 2020;\n",
    "\n",
    "@StrainMeasure Hencky;\n",
    "\n",
    "@Algorithm NewtonRaphson;\n",
    "@Epsilon 1.e-14;\n",
    "@Theta 1;\n",
    "\n",
    "@MaterialProperty stress s0;\n",
    "s0.setGlossaryName(\"YieldStress\");\n",
    "@MaterialProperty stress H0;\n",
    "H0.setEntryName(\"HardeningSlope\");\n",
    "\n",
    "@Brick StandardElastoViscoPlasticity{\n",
    "  stress_potential : \"Hooke\" {\n",
    "\t    young_modulus : 210e9,\n",
    "        poisson_ratio : 0.3\n",
    "        },\n",
    "  inelastic_flow : \"Plastic\" {\n",
    "    criterion : \"Mises\",\n",
    "    isotropic_hardening : \"Linear\" {H : \"H0\", R0 : \"s0\"}\n",
    "  }\n",
    "};\n",
    "```\n",
    "\n",
    "## `FEniCS` implementation\n",
    "\n",
    "We define a box mesh representing half of a beam oriented along the $x$-direction. The beam will be fully clamped on its left side and symmetry conditions will be imposed on its right extremity. The loading consists of a uniform self-weight.\n",
    "\n",
    "\n",
    "<img src=\"finite_strain_plasticity_solution.png\" width=\"500\">\n"
   ]
  },
  {
   "cell_type": "code",
   "execution_count": null,
   "metadata": {},
   "outputs": [],
   "source": [
    "import numpy as np\n",
    "import matplotlib.pyplot as plt\n",
    "import os\n",
    "import ufl\n",
    "from petsc4py import PETSc\n",
    "from mpi4py import MPI\n",
    "from dolfinx import fem, mesh, io\n",
    "from dolfinx.cpp.nls.petsc import NewtonSolver\n",
    "from dolfinx_materials.quadrature_map import QuadratureMap\n",
    "from dolfinx_materials.material.mfront import MFrontMaterial\n",
    "from dolfinx_materials.solvers import NonlinearMaterialProblem\n",
    "from dolfinx_materials.utils import (\n",
    "    nonsymmetric_tensor_to_vector,\n",
    ")\n",
    "\n",
    "current_path = os.getcwd()\n",
    "\n",
    "length, width, height = 1.0, 0.04, 0.1\n",
    "nx, ny, nz = 30, 5, 8\n",
    "domain = mesh.create_box(\n",
    "    MPI.COMM_WORLD,\n",
    "    [(0, -width / 2, -height / 2.0), (length, width / 2, height / 2.0)],\n",
    "    [nx, ny, nz],\n",
    "    cell_type=mesh.CellType.tetrahedron,\n",
    "    ghost_mode=mesh.GhostMode.none,\n",
    ")\n",
    "gdim = domain.topology.dim\n",
    "\n",
    "\n",
    "V = fem.functionspace(domain, (\"P\", 2, (gdim,)))\n",
    "\n",
    "\n",
    "def left(x):\n",
    "    return np.isclose(x[0], 0)\n",
    "\n",
    "\n",
    "def right(x):\n",
    "    return np.isclose(x[0], length)\n",
    "\n",
    "\n",
    "left_dofs = fem.locate_dofs_geometrical(V, left)\n",
    "V_x, _ = V.sub(0).collapse()\n",
    "right_dofs = fem.locate_dofs_geometrical((V.sub(0), V_x), right)\n",
    "\n",
    "uD = fem.Function(V_x)\n",
    "bcs = [\n",
    "    fem.dirichletbc(np.zeros((gdim,)), left_dofs, V),\n",
    "    fem.dirichletbc(uD, right_dofs, V.sub(0)),\n",
    "]\n",
    "\n",
    "selfweight = fem.Constant(domain, np.zeros((gdim,)))\n",
    "\n",
    "du = ufl.TrialFunction(V)\n",
    "v = ufl.TestFunction(V)\n",
    "u = fem.Function(V, name=\"Displacement\")"
   ]
  },
  {
   "cell_type": "markdown",
   "metadata": {},
   "source": [
    "The `MFrontMaterial` instance is loaded from the `MFront` `LogarithmicStrainPlasticity` behaviour. This behaviour is a finite-strain behaviour (`material.is_finite_strain=True`) which relies on a kinematic description using the total deformation gradient $\\boldsymbol{F}$. By default, a `MFront` behaviour always returns the Cauchy stress as the stress measure after integration. However, the stress variable dual to the deformation gradient is the first Piola-Kirchhoff (PK1) stress. An internal option of the MGIS interface is therefore used in the finite-strain context to return the PK1 stress as the \"flux\" associated to the \"gradient\" $\\boldsymbol{F}$. Both quantities are non-symmetric tensors, aranged as a 9-dimensional vector in 3D following [`MFront` conventions on tensors](http://tfel.sourceforge.net/tensors.html)."
   ]
  },
  {
   "cell_type": "code",
   "execution_count": 2,
   "metadata": {},
   "outputs": [
    {
     "name": "stdout",
     "output_type": "stream",
     "text": [
      "StandardFiniteStrainBehaviour\n",
      "F_CAUCHY\n",
      "['DeformationGradient'] [9]\n",
      "['FirstPiolaKirchhoffStress'] [9]\n"
     ]
    }
   ],
   "source": [
    "material = MFrontMaterial(\n",
    "    os.path.join(current_path, \"src/libBehaviour.so\"),\n",
    "    \"LogarithmicStrainPlasticity\",\n",
    "    material_properties={\"YieldStrength\": 250e6, \"HardeningSlope\": 1e6},\n",
    ")\n",
    "print(material.behaviour.getBehaviourType())\n",
    "print(material.behaviour.getKinematic())\n",
    "print(material.gradient_names, material.gradient_sizes)\n",
    "print(material.flux_names, material.flux_sizes)"
   ]
  },
  {
   "cell_type": "markdown",
   "metadata": {},
   "source": [
    "In this large-strain setting, the `QuadratureMapping` acts from the deformation gradient $\\boldsymbol{F}=\\boldsymbol{I}+\\nabla\\boldsymbol{u}$ to the first Piola-Kirchhoff stress $\\boldsymbol{P}$. We must therefore register the deformation gradient as `Identity(3)+grad(u)`. "
   ]
  },
  {
   "cell_type": "code",
   "execution_count": 3,
   "metadata": {},
   "outputs": [],
   "source": [
    "def F(u):\n",
    "    return nonsymmetric_tensor_to_vector(ufl.Identity(gdim) + ufl.grad(u))\n",
    "\n",
    "\n",
    "def dF(u):\n",
    "    return nonsymmetric_tensor_to_vector(ufl.grad(u))\n",
    "\n",
    "\n",
    "qmap = QuadratureMap(domain, 2, material)\n",
    "qmap.register_gradient(\"DeformationGradient\", F(u))"
   ]
  },
  {
   "cell_type": "markdown",
   "metadata": {},
   "source": [
    "We will work in a Total Lagrangian formulation, writing the weak form of equilibrium on the reference configuration $\\Omega_0$, thereby defining the nonlinear residual weak form as:\n",
    "Find $\\boldsymbol{u}\\in V$ such that:\n",
    "$$\n",
    "\\int_{\\Omega_0} \\boldsymbol{P}(\\boldsymbol{F}(\\boldsymbol{u})):\\nabla \\boldsymbol{v} \\,\\text{d}\\Omega - \\int_{\\Omega_0} \\boldsymbol{f}\\cdot\\boldsymbol{v}\\,\\text{d}\\Omega = 0 \\quad \\forall \\boldsymbol{v}\\in V\n",
    "$$\n",
    "where $\\boldsymbol{f}$ is the self-weight. The corresponding Jacobian form is computed via automatic differentiation. As for the [small-strain elastoplasticity example](https://thelfer.github.io/mgis/web/mgis_fenics_small_strain_elastoplasticity.html), state variables include the `ElasticStrain` and `EquivalentPlasticStrain` since the same behaviour is used as in the small-strain case with the only difference that the total strain is now given by the Hencky strain measure. In particular, the `ElasticStrain` is still a symmetric tensor (vector of dimension 6). Note that it has not been explicitly defined as a state variable in the `MFront` behaviour file since this is done automatically when using the `IsotropicPlasticMisesFlow` parser."
   ]
  },
  {
   "cell_type": "code",
   "execution_count": 4,
   "metadata": {},
   "outputs": [],
   "source": [
    "PK1 = qmap.fluxes[\"FirstPiolaKirchhoffStress\"]\n",
    "Res = (ufl.dot(PK1, dF(v)) - ufl.dot(selfweight, v)) * qmap.dx\n",
    "Jac = qmap.derivative(Res, u, du)"
   ]
  },
  {
   "cell_type": "markdown",
   "metadata": {},
   "source": [
    "Finally, we setup the nonlinear problem, the corresponding Newton solver and solve the load-stepping problem."
   ]
  },
  {
   "cell_type": "code",
   "execution_count": null,
   "metadata": {},
   "outputs": [],
   "source": [
    "problem = NonlinearMaterialProblem(qmap, Res, Jac, u, bcs)\n",
    "\n",
    "newton = NewtonSolver(MPI.COMM_WORLD)\n",
    "newton.rtol = 1e-4\n",
    "newton.atol = 1e-4\n",
    "newton.convergence_criterion = \"incremental\"\n",
    "newton.report = True\n",
    "\n",
    "# Set solver options\n",
    "ksp = newton.krylov_solver\n",
    "opts = PETSc.Options()\n",
    "option_prefix = ksp.getOptionsPrefix()\n",
    "opts[f\"{option_prefix}ksp_type\"] = \"preonly\"\n",
    "opts[f\"{option_prefix}pc_type\"] = \"lu\"\n",
    "opts[f\"{option_prefix}pc_factor_mat_solver_type\"] = \"mumps\"\n",
    "ksp.setFromOptions()\n",
    "\n",
    "Nincr = 30\n",
    "load_steps = np.linspace(0.0, 1.0, Nincr + 1)\n",
    "\n",
    "vtk_u = io.VTKFile(domain.comm, \"results_u.pvd\", \"w\")\n",
    "vtk_p = io.VTKFile(domain.comm, \"results_p.pvd\", \"w\")\n",
    "results = np.zeros((Nincr + 1, 2))\n",
    "for i, t in enumerate(load_steps[1:]):\n",
    "    selfweight.value[-1] = -50e6 * t\n",
    "\n",
    "    converged, it = problem.solve(newton, print_solution=False)\n",
    "\n",
    "    print(f\"Increment {i+1} converged in {it} iterations.\")\n",
    "\n",
    "    p0 = qmap.project_on(\"EquivalentPlasticStrain\", (\"DG\", 0))\n",
    "\n",
    "    vtk_u.write_function(u, t)\n",
    "    vtk_p.write_function(p0, t)\n",
    "\n",
    "    w = u.sub(2).collapse()\n",
    "    results[i + 1, 0] = max(np.abs(w.vector.array))\n",
    "    results[i + 1, 1] = t\n",
    "vtk_u.close()\n",
    "vtk_p.close()"
   ]
  },
  {
   "cell_type": "markdown",
   "metadata": {},
   "source": [
    "During the load incrementation, we monitor the evolution of the maximum vertical downwards displacement.\n",
    "\n",
    "This simulation is a bit heavy to run so we suggest running it in parallel:\n",
    "```bash\n",
    "mpirun -np 4 python3 finite_strain_elastoplasticity.py\n",
    "```"
   ]
  },
  {
   "cell_type": "markdown",
   "metadata": {},
   "source": [
    "The load-displacement curve exhibits a classical elastoplastic behaviour rapidly followed by a stiffening behaviour due to membrane catenary effects. "
   ]
  },
  {
   "cell_type": "code",
   "execution_count": 6,
   "metadata": {},
   "outputs": [
    {
     "data": {
      "image/png": "[encoded data removed]",
      "text/plain": [
       "<Figure size 640x480 with 1 Axes>"
      ]
     },
     "metadata": {},
     "output_type": "display_data"
    }
   ],
   "source": [
    "plt.figure()\n",
    "plt.plot(results[:, 0], results[:, 1], \"-o\")\n",
    "plt.xlabel(\"Displacement\")\n",
    "plt.ylabel(\"Load\")\n",
    "plt.show()"
   ]
  },
  {
   "cell_type": "code",
   "execution_count": null,
   "metadata": {},
   "outputs": [],
   "source": []
  }
 ],
 "metadata": {
  "celltoolbar": "Aucun(e)",
  "kernelspec": {
   "display_name": "Python 3",
   "language": "python",
   "name": "python3"
  },
  "language_info": {
   "codemirror_mode": {
    "name": "ipython",
    "version": 3
   },
   "file_extension": ".py",
   "mimetype": "text/x-python",
   "name": "python",
   "nbconvert_exporter": "python",
   "pygments_lexer": "ipython3",
   "version": "3.10.12"
  },
  "latex_envs": {
   "LaTeX_envs_menu_present": true,
   "autoclose": false,
   "autocomplete": true,
   "bibliofile": "biblio.bib",
   "cite_by": "apalike",
   "current_citInitial": 1,
   "eqLabelWithNumbers": true,
   "eqNumInitial": 1,
   "hotkeys": {
    "equation": "Ctrl-E",
    "itemize": "Ctrl-I"
   },
   "labels_anchors": false,
   "latex_user_defs": false,
   "report_style_numbering": false,
   "user_envs_cfg": false
  }
 },
 "nbformat": 4,
 "nbformat_minor": 4
}
